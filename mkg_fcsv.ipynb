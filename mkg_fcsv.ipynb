{
 "cells": [
  {
   "cell_type": "code",
   "execution_count": 16,
   "metadata": {},
   "outputs": [],
   "source": [
    "import numpy as np\n",
    "import pandas as pd\n",
    "import glob\n",
    "import csv\n",
    "import matplotlib as mpl\n",
    "import matplotlib.pyplot as plt"
   ]
  },
  {
   "cell_type": "code",
   "execution_count": 19,
   "metadata": {},
   "outputs": [],
   "source": [
    "df = pd.read_csv('csv/all_loss.csv', index_col=0)"
   ]
  },
  {
   "cell_type": "code",
   "execution_count": 20,
   "metadata": {},
   "outputs": [
    {
     "data": {
      "text/html": [
       "<div>\n",
       "<style scoped>\n",
       "    .dataframe tbody tr th:only-of-type {\n",
       "        vertical-align: middle;\n",
       "    }\n",
       "\n",
       "    .dataframe tbody tr th {\n",
       "        vertical-align: top;\n",
       "    }\n",
       "\n",
       "    .dataframe thead th {\n",
       "        text-align: right;\n",
       "    }\n",
       "</style>\n",
       "<table border=\"1\" class=\"dataframe\">\n",
       "  <thead>\n",
       "    <tr style=\"text-align: right;\">\n",
       "      <th></th>\n",
       "      <th>total</th>\n",
       "      <th>class</th>\n",
       "      <th>coordinate</th>\n",
       "      <th>angle</th>\n",
       "    </tr>\n",
       "  </thead>\n",
       "  <tbody>\n",
       "    <tr>\n",
       "      <th>efficient7200test</th>\n",
       "      <td>0.172507</td>\n",
       "      <td>0.032811</td>\n",
       "      <td>0.065785</td>\n",
       "      <td>0.336694</td>\n",
       "    </tr>\n",
       "    <tr>\n",
       "      <th>efficient14400test</th>\n",
       "      <td>0.168106</td>\n",
       "      <td>0.036140</td>\n",
       "      <td>0.063096</td>\n",
       "      <td>0.331044</td>\n",
       "    </tr>\n",
       "    <tr>\n",
       "      <th>efficient28800test</th>\n",
       "      <td>0.172116</td>\n",
       "      <td>0.030566</td>\n",
       "      <td>0.067429</td>\n",
       "      <td>0.331726</td>\n",
       "    </tr>\n",
       "    <tr>\n",
       "      <th>mobile7200test</th>\n",
       "      <td>0.172917</td>\n",
       "      <td>0.032818</td>\n",
       "      <td>0.068307</td>\n",
       "      <td>0.336848</td>\n",
       "    </tr>\n",
       "    <tr>\n",
       "      <th>mobile14400test</th>\n",
       "      <td>0.184076</td>\n",
       "      <td>0.044416</td>\n",
       "      <td>0.084415</td>\n",
       "      <td>0.338619</td>\n",
       "    </tr>\n",
       "    <tr>\n",
       "      <th>mobile28800test</th>\n",
       "      <td>0.177070</td>\n",
       "      <td>0.041598</td>\n",
       "      <td>0.074724</td>\n",
       "      <td>0.338871</td>\n",
       "    </tr>\n",
       "    <tr>\n",
       "      <th>shuffle1200wpttest</th>\n",
       "      <td>0.178957</td>\n",
       "      <td>0.087040</td>\n",
       "      <td>0.065415</td>\n",
       "      <td>0.339489</td>\n",
       "    </tr>\n",
       "    <tr>\n",
       "      <th>shuffle3600wpttest</th>\n",
       "      <td>0.170350</td>\n",
       "      <td>0.040617</td>\n",
       "      <td>0.061298</td>\n",
       "      <td>0.334860</td>\n",
       "    </tr>\n",
       "    <tr>\n",
       "      <th>shuffle7200test</th>\n",
       "      <td>0.175433</td>\n",
       "      <td>0.039904</td>\n",
       "      <td>0.073050</td>\n",
       "      <td>0.337293</td>\n",
       "    </tr>\n",
       "    <tr>\n",
       "      <th>shuffle7200wpttest</th>\n",
       "      <td>0.166968</td>\n",
       "      <td>0.017248</td>\n",
       "      <td>0.060730</td>\n",
       "      <td>0.335954</td>\n",
       "    </tr>\n",
       "    <tr>\n",
       "      <th>shuffle14400test</th>\n",
       "      <td>0.179162</td>\n",
       "      <td>0.055209</td>\n",
       "      <td>0.076976</td>\n",
       "      <td>0.337881</td>\n",
       "    </tr>\n",
       "    <tr>\n",
       "      <th>shuffle14400wpttest</th>\n",
       "      <td>0.163244</td>\n",
       "      <td>0.012746</td>\n",
       "      <td>0.059667</td>\n",
       "      <td>0.330327</td>\n",
       "    </tr>\n",
       "    <tr>\n",
       "      <th>shuffle28800test</th>\n",
       "      <td>0.222442</td>\n",
       "      <td>0.110619</td>\n",
       "      <td>0.116530</td>\n",
       "      <td>0.363062</td>\n",
       "    </tr>\n",
       "    <tr>\n",
       "      <th>shuffle28800wpttest</th>\n",
       "      <td>0.160651</td>\n",
       "      <td>0.005618</td>\n",
       "      <td>0.057371</td>\n",
       "      <td>0.328509</td>\n",
       "    </tr>\n",
       "  </tbody>\n",
       "</table>\n",
       "</div>"
      ],
      "text/plain": [
       "                        total     class  coordinate     angle\n",
       "efficient7200test    0.172507  0.032811    0.065785  0.336694\n",
       "efficient14400test   0.168106  0.036140    0.063096  0.331044\n",
       "efficient28800test   0.172116  0.030566    0.067429  0.331726\n",
       "mobile7200test       0.172917  0.032818    0.068307  0.336848\n",
       "mobile14400test      0.184076  0.044416    0.084415  0.338619\n",
       "mobile28800test      0.177070  0.041598    0.074724  0.338871\n",
       "shuffle1200wpttest   0.178957  0.087040    0.065415  0.339489\n",
       "shuffle3600wpttest   0.170350  0.040617    0.061298  0.334860\n",
       "shuffle7200test      0.175433  0.039904    0.073050  0.337293\n",
       "shuffle7200wpttest   0.166968  0.017248    0.060730  0.335954\n",
       "shuffle14400test     0.179162  0.055209    0.076976  0.337881\n",
       "shuffle14400wpttest  0.163244  0.012746    0.059667  0.330327\n",
       "shuffle28800test     0.222442  0.110619    0.116530  0.363062\n",
       "shuffle28800wpttest  0.160651  0.005618    0.057371  0.328509"
      ]
     },
     "execution_count": 20,
     "metadata": {},
     "output_type": "execute_result"
    }
   ],
   "source": [
    "df"
   ]
  },
  {
   "cell_type": "code",
   "execution_count": 35,
   "metadata": {},
   "outputs": [],
   "source": [
    "normal_net = [0, 1, 2, 3, 4, 5, 8, 10, 12]\n",
    "wpt_net = [6, 7, 9, 11, 13]\n",
    "\n",
    "idx_name = ['1200', '3600', '7200', '14400', '28800']\n",
    "\n",
    "df_normal = df.iloc[normal_net, :]\n",
    "df_withpre = df.iloc[wpt_net, :].set_axis(idx_name)"
   ]
  },
  {
   "cell_type": "code",
   "execution_count": 36,
   "metadata": {},
   "outputs": [
    {
     "data": {
      "text/html": [
       "<div>\n",
       "<style scoped>\n",
       "    .dataframe tbody tr th:only-of-type {\n",
       "        vertical-align: middle;\n",
       "    }\n",
       "\n",
       "    .dataframe tbody tr th {\n",
       "        vertical-align: top;\n",
       "    }\n",
       "\n",
       "    .dataframe thead th {\n",
       "        text-align: right;\n",
       "    }\n",
       "</style>\n",
       "<table border=\"1\" class=\"dataframe\">\n",
       "  <thead>\n",
       "    <tr style=\"text-align: right;\">\n",
       "      <th></th>\n",
       "      <th>total</th>\n",
       "      <th>class</th>\n",
       "      <th>coordinate</th>\n",
       "      <th>angle</th>\n",
       "    </tr>\n",
       "  </thead>\n",
       "  <tbody>\n",
       "    <tr>\n",
       "      <th>efficient7200test</th>\n",
       "      <td>0.172507</td>\n",
       "      <td>0.032811</td>\n",
       "      <td>0.065785</td>\n",
       "      <td>0.336694</td>\n",
       "    </tr>\n",
       "    <tr>\n",
       "      <th>efficient14400test</th>\n",
       "      <td>0.168106</td>\n",
       "      <td>0.036140</td>\n",
       "      <td>0.063096</td>\n",
       "      <td>0.331044</td>\n",
       "    </tr>\n",
       "    <tr>\n",
       "      <th>efficient28800test</th>\n",
       "      <td>0.172116</td>\n",
       "      <td>0.030566</td>\n",
       "      <td>0.067429</td>\n",
       "      <td>0.331726</td>\n",
       "    </tr>\n",
       "    <tr>\n",
       "      <th>mobile7200test</th>\n",
       "      <td>0.172917</td>\n",
       "      <td>0.032818</td>\n",
       "      <td>0.068307</td>\n",
       "      <td>0.336848</td>\n",
       "    </tr>\n",
       "    <tr>\n",
       "      <th>mobile14400test</th>\n",
       "      <td>0.184076</td>\n",
       "      <td>0.044416</td>\n",
       "      <td>0.084415</td>\n",
       "      <td>0.338619</td>\n",
       "    </tr>\n",
       "    <tr>\n",
       "      <th>mobile28800test</th>\n",
       "      <td>0.177070</td>\n",
       "      <td>0.041598</td>\n",
       "      <td>0.074724</td>\n",
       "      <td>0.338871</td>\n",
       "    </tr>\n",
       "    <tr>\n",
       "      <th>shuffle7200test</th>\n",
       "      <td>0.175433</td>\n",
       "      <td>0.039904</td>\n",
       "      <td>0.073050</td>\n",
       "      <td>0.337293</td>\n",
       "    </tr>\n",
       "    <tr>\n",
       "      <th>shuffle14400test</th>\n",
       "      <td>0.179162</td>\n",
       "      <td>0.055209</td>\n",
       "      <td>0.076976</td>\n",
       "      <td>0.337881</td>\n",
       "    </tr>\n",
       "    <tr>\n",
       "      <th>shuffle28800test</th>\n",
       "      <td>0.222442</td>\n",
       "      <td>0.110619</td>\n",
       "      <td>0.116530</td>\n",
       "      <td>0.363062</td>\n",
       "    </tr>\n",
       "  </tbody>\n",
       "</table>\n",
       "</div>"
      ],
      "text/plain": [
       "                       total     class  coordinate     angle\n",
       "efficient7200test   0.172507  0.032811    0.065785  0.336694\n",
       "efficient14400test  0.168106  0.036140    0.063096  0.331044\n",
       "efficient28800test  0.172116  0.030566    0.067429  0.331726\n",
       "mobile7200test      0.172917  0.032818    0.068307  0.336848\n",
       "mobile14400test     0.184076  0.044416    0.084415  0.338619\n",
       "mobile28800test     0.177070  0.041598    0.074724  0.338871\n",
       "shuffle7200test     0.175433  0.039904    0.073050  0.337293\n",
       "shuffle14400test    0.179162  0.055209    0.076976  0.337881\n",
       "shuffle28800test    0.222442  0.110619    0.116530  0.363062"
      ]
     },
     "execution_count": 36,
     "metadata": {},
     "output_type": "execute_result"
    }
   ],
   "source": [
    "df_normal"
   ]
  },
  {
   "cell_type": "code",
   "execution_count": 37,
   "metadata": {},
   "outputs": [
    {
     "data": {
      "text/html": [
       "<div>\n",
       "<style scoped>\n",
       "    .dataframe tbody tr th:only-of-type {\n",
       "        vertical-align: middle;\n",
       "    }\n",
       "\n",
       "    .dataframe tbody tr th {\n",
       "        vertical-align: top;\n",
       "    }\n",
       "\n",
       "    .dataframe thead th {\n",
       "        text-align: right;\n",
       "    }\n",
       "</style>\n",
       "<table border=\"1\" class=\"dataframe\">\n",
       "  <thead>\n",
       "    <tr style=\"text-align: right;\">\n",
       "      <th></th>\n",
       "      <th>total</th>\n",
       "      <th>class</th>\n",
       "      <th>coordinate</th>\n",
       "      <th>angle</th>\n",
       "    </tr>\n",
       "  </thead>\n",
       "  <tbody>\n",
       "    <tr>\n",
       "      <th>1200</th>\n",
       "      <td>0.178957</td>\n",
       "      <td>0.087040</td>\n",
       "      <td>0.065415</td>\n",
       "      <td>0.339489</td>\n",
       "    </tr>\n",
       "    <tr>\n",
       "      <th>3600</th>\n",
       "      <td>0.170350</td>\n",
       "      <td>0.040617</td>\n",
       "      <td>0.061298</td>\n",
       "      <td>0.334860</td>\n",
       "    </tr>\n",
       "    <tr>\n",
       "      <th>7200</th>\n",
       "      <td>0.166968</td>\n",
       "      <td>0.017248</td>\n",
       "      <td>0.060730</td>\n",
       "      <td>0.335954</td>\n",
       "    </tr>\n",
       "    <tr>\n",
       "      <th>14400</th>\n",
       "      <td>0.163244</td>\n",
       "      <td>0.012746</td>\n",
       "      <td>0.059667</td>\n",
       "      <td>0.330327</td>\n",
       "    </tr>\n",
       "    <tr>\n",
       "      <th>28800</th>\n",
       "      <td>0.160651</td>\n",
       "      <td>0.005618</td>\n",
       "      <td>0.057371</td>\n",
       "      <td>0.328509</td>\n",
       "    </tr>\n",
       "  </tbody>\n",
       "</table>\n",
       "</div>"
      ],
      "text/plain": [
       "          total     class  coordinate     angle\n",
       "1200   0.178957  0.087040    0.065415  0.339489\n",
       "3600   0.170350  0.040617    0.061298  0.334860\n",
       "7200   0.166968  0.017248    0.060730  0.335954\n",
       "14400  0.163244  0.012746    0.059667  0.330327\n",
       "28800  0.160651  0.005618    0.057371  0.328509"
      ]
     },
     "execution_count": 37,
     "metadata": {},
     "output_type": "execute_result"
    }
   ],
   "source": [
    "df_withpre"
   ]
  },
  {
   "cell_type": "code",
   "execution_count": 38,
   "metadata": {},
   "outputs": [
    {
     "data": {
      "text/plain": [
       "<AxesSubplot:>"
      ]
     },
     "execution_count": 38,
     "metadata": {},
     "output_type": "execute_result"
    },
    {
     "data": {
      "image/png": "[encoded data removed]",
      "text/plain": [
       "<Figure size 432x288 with 1 Axes>"
      ]
     },
     "metadata": {
      "needs_background": "light"
     },
     "output_type": "display_data"
    }
   ],
   "source": [
    "df_normal.iloc[6:9, 0].plot()"
   ]
  },
  {
   "cell_type": "code",
   "execution_count": 39,
   "metadata": {},
   "outputs": [
    {
     "data": {
      "text/plain": [
       "<AxesSubplot:>"
      ]
     },
     "execution_count": 39,
     "metadata": {},
     "output_type": "execute_result"
    },
    {
     "data": {
      "image/png": "[encoded data removed]",
      "text/plain": [
       "<Figure size 432x288 with 1 Axes>"
      ]
     },
     "metadata": {
      "needs_background": "light"
     },
     "output_type": "display_data"
    }
   ],
   "source": [
    "df_withpre.iloc[:, 3].plot()"
   ]
  },
  {
   "cell_type": "code",
   "execution_count": 32,
   "metadata": {},
   "outputs": [],
   "source": [
    "plt.figure()\n",
    "df_normal.iloc[:3, 0].plot()\n",
    "plt.savefig('figure_sample/sample.png')\n",
    "plt.close()"
   ]
  },
  {
   "cell_type": "code",
   "execution_count": null,
   "metadata": {},
   "outputs": [],
   "source": []
  }
 ],
 "metadata": {
  "kernelspec": {
   "display_name": "nao",
   "language": "python",
   "name": "python3"
  },
  "language_info": {
   "codemirror_mode": {
    "name": "ipython",
    "version": 3
   },
   "file_extension": ".py",
   "mimetype": "text/x-python",
   "name": "python",
   "nbconvert_exporter": "python",
   "pygments_lexer": "ipython3",
   "version": "3.8.5"
  },
  "orig_nbformat": 4,
  "vscode": {
   "interpreter": {
    "hash": "bf78ad539898f6c1b91e27e91ced7c441245a851d0d82d49db83244c8e7e0e4a"
   }
  }
 },
 "nbformat": 4,
 "nbformat_minor": 2
}
